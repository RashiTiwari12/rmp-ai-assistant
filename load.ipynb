{
 "cells": [
  {
   "cell_type": "code",
   "execution_count": null,
   "metadata": {},
   "outputs": [],
   "source": [
    "from dotenv import load_dotenv\n",
    "load_dotenv()\n",
    "import os\n",
    "from openai import OpenAI\n",
    "from pinecone import Pinecone, ServerlessSpec\n",
    "from sentence_transformers import SentenceTransformer\n",
    "import torch"
   ]
  },
  {
   "cell_type": "code",
   "execution_count": 2,
   "metadata": {},
   "outputs": [],
   "source": [
    "pc = Pinecone(api_key= \"PINECONE_API_KEY\")\n",
    "pc.create_index(\n",
    "    name='rag', dimension=384, metric='cosine', spec=ServerlessSpec(cloud=\"aws\", region=\"us-east-1\")\n",
    ")"
   ]
  },
  {
   "cell_type": "code",
   "execution_count": 3,
   "metadata": {},
   "outputs": [
    {
     "data": {
      "text/plain": [
       "[{'professor': 'Dr. Emily Thompson',\n",
       "  'subject': 'Biology',\n",
       "  'stars': 4,\n",
       "  'review': \"Dr. Thompson's lectures are engaging and she explains complex concepts clearly. Very approachable during office hours.\"},\n",
       " {'professor': 'Prof. Michael Chen',\n",
       "  'subject': 'Computer Science',\n",
       "  'stars': 5,\n",
       "  'review': \"Brilliant instructor! Prof. Chen's passion for coding is contagious. His projects are challenging but incredibly rewarding.\"},\n",
       " {'professor': 'Dr. Sarah Rodriguez',\n",
       "  'subject': 'Psychology',\n",
       "  'stars': 3,\n",
       "  'review': 'Dr. Rodriguez knows her stuff, but her lectures can be a bit dry. Exams are fair though.'},\n",
       " {'professor': 'Prof. Jonathan Lee',\n",
       "  'subject': 'Mathematics',\n",
       "  'stars': 4,\n",
       "  'review': 'Prof. Lee breaks down complex math concepts into digestible pieces. His problem sets are tough but helpful.'},\n",
       " {'professor': 'Dr. Olivia Patel',\n",
       "  'subject': 'Chemistry',\n",
       "  'stars': 5,\n",
       "  'review': \"Dr. Patel's lab sessions are fantastic! She makes organic chemistry fun and interesting.\"},\n",
       " {'professor': 'Prof. David Wilson',\n",
       "  'subject': 'History',\n",
       "  'stars': 2,\n",
       "  'review': 'Prof. Wilson seems knowledgeable but often goes off-topic. Grading can be inconsistent.'},\n",
       " {'professor': 'Dr. Rachel Greene',\n",
       "  'subject': 'English Literature',\n",
       "  'stars': 4,\n",
       "  'review': \"Dr. Greene's passion for literature is evident. Her essay prompts are thought-provoking and encourage creativity.\"},\n",
       " {'professor': 'Prof. Alexander Ivanov',\n",
       "  'subject': 'Physics',\n",
       "  'stars': 5,\n",
       "  'review': 'Prof. Ivanov is a genius! His demonstrations make complex physics concepts come alive.'},\n",
       " {'professor': 'Dr. Maria Sanchez',\n",
       "  'subject': 'Sociology',\n",
       "  'stars': 3,\n",
       "  'review': 'Dr. Sanchez assigns interesting readings, but her lectures can be hard to follow at times.'},\n",
       " {'professor': 'Prof. James Cooper',\n",
       "  'subject': 'Economics',\n",
       "  'stars': 4,\n",
       "  'review': 'Prof. Cooper relates economic theories to real-world scenarios effectively. His exams are challenging but fair.'},\n",
       " {'professor': 'Dr. Laura Yamamoto',\n",
       "  'subject': 'Art History',\n",
       "  'stars': 5,\n",
       "  'review': \"Dr. Yamamoto's lectures are like taking a journey through time. Her enthusiasm is infectious!\"},\n",
       " {'professor': 'Prof. Robert Brown',\n",
       "  'subject': 'Political Science',\n",
       "  'stars': 2,\n",
       "  'review': \"Prof. Brown's lectures are monotonous and he rarely engages with students. Assignments are unclear.\"},\n",
       " {'professor': 'Dr. Emma Watson',\n",
       "  'subject': 'Neuroscience',\n",
       "  'stars': 4,\n",
       "  'review': 'Dr. Watson explains complex neural mechanisms clearly. Her research insights are fascinating.'},\n",
       " {'professor': 'Prof. Hassan Ali',\n",
       "  'subject': 'International Relations',\n",
       "  'stars': 5,\n",
       "  'review': 'Prof. Ali brings a wealth of real-world experience to the classroom. Discussions are always enlightening.'},\n",
       " {'professor': 'Dr. Sophia Lee',\n",
       "  'subject': 'Environmental Science',\n",
       "  'stars': 3,\n",
       "  'review': 'Dr. Lee is knowledgeable but can be disorganized. Field trips are the highlight of her course.'},\n",
       " {'professor': 'Prof. Thomas Mueller',\n",
       "  'subject': 'Philosophy',\n",
       "  'stars': 4,\n",
       "  'review': 'Prof. Mueller challenges students to think critically. His Socratic method can be intimidating but effective.'},\n",
       " {'professor': 'Dr. Aisha Patel',\n",
       "  'subject': 'Anthropology',\n",
       "  'stars': 5,\n",
       "  'review': \"Dr. Patel's firsthand research experiences make her lectures come alive. She's incredibly supportive of students.\"},\n",
       " {'professor': 'Prof. Gregory Smith',\n",
       "  'subject': 'Business Administration',\n",
       "  'stars': 2,\n",
       "  'review': 'Prof. Smith seems more interested in his consulting work than teaching. Lectures lack depth and relevance.'},\n",
       " {'professor': 'Dr. Natalie Wong',\n",
       "  'subject': 'Linguistics',\n",
       "  'stars': 4,\n",
       "  'review': \"Dr. Wong's enthusiasm for language is contagious. Her assignments are creative and engaging.\"},\n",
       " {'professor': 'Prof. Carlos Mendez',\n",
       "  'subject': 'Music Theory',\n",
       "  'stars': 5,\n",
       "  'review': 'Prof. Mendez is a musical genius! His composition workshops are incredibly inspiring and instructive.'}]"
      ]
     },
     "execution_count": 3,
     "metadata": {},
     "output_type": "execute_result"
    }
   ],
   "source": [
    "import json\n",
    "data = json.load(open(\"reviews.json\"))\n",
    "data[\"reviews\"]"
   ]
  },
  {
   "cell_type": "code",
   "execution_count": 4,
   "metadata": {},
   "outputs": [
    {
     "name": "stderr",
     "output_type": "stream",
     "text": [
      "/usr/local/Caskroom/miniconda/base/envs/rag/lib/python3.10/site-packages/transformers/tokenization_utils_base.py:1601: FutureWarning: `clean_up_tokenization_spaces` was not set. It will be set to `True` by default. This behavior will be depracted in transformers v4.45, and will be then set to `False` by default. For more details check this issue: https://github.com/huggingface/transformers/issues/31884\n",
      "  warnings.warn(\n"
     ]
    }
   ],
   "source": [
    "device = 'cuda' if torch.cuda.is_available() else 'cpu'\n",
    "\n",
    "model = SentenceTransformer('sentence-transformers/all-MiniLM-L12-v2').to(device)"
   ]
  },
  {
   "cell_type": "code",
   "execution_count": 5,
   "metadata": {},
   "outputs": [],
   "source": [
    "sentences = [x[\"review\"] for x in data[\"reviews\"]]\n",
    "embeddings =  model.encode(sentences)"
   ]
  },
  {
   "cell_type": "code",
   "execution_count": 7,
   "metadata": {},
   "outputs": [],
   "source": [
    "vectors = []\n",
    "for d, e in zip(data[\"reviews\"], embeddings):\n",
    "    vectors.append({\n",
    "        \"values\": e,\n",
    "        \"id\": d['professor'],\n",
    "        \"metadata\": {\n",
    "            \"review\": d[\"review\"],\n",
    "            \"subject\": d[\"subject\"],\n",
    "            \"stars\": d[\"stars\"]\n",
    "        }\n",
    "    })"
   ]
  },
  {
   "cell_type": "code",
   "execution_count": 8,
   "metadata": {},
   "outputs": [
    {
     "data": {
      "text/plain": [
       "{'values': array([ 5.07038161e-02,  1.67763047e-02, -1.64733045e-02,  5.14017642e-02,\n",
       "        -6.98957294e-02,  9.47968196e-03, -4.21546474e-02,  1.52850279e-03,\n",
       "        -8.35306048e-02,  7.50478916e-03, -6.45772293e-02,  7.37450868e-02,\n",
       "        -1.15991868e-01,  9.39667076e-02, -5.15341833e-02,  3.15593928e-02,\n",
       "         3.39771360e-02,  3.07512525e-02,  1.89694650e-02, -2.32788809e-02,\n",
       "        -4.13217535e-03,  1.06509775e-02, -7.57800490e-02,  1.24105923e-02,\n",
       "        -2.93630660e-02, -1.00029176e-02,  4.24965024e-02, -5.25870323e-02,\n",
       "         8.77728462e-02, -7.27882609e-02, -8.91336799e-02, -3.49559374e-02,\n",
       "         2.44281301e-03,  2.65361611e-02, -1.10609248e-01,  3.21352147e-02,\n",
       "         5.63334078e-02,  8.56932178e-02,  3.45011726e-02,  9.88056767e-04,\n",
       "        -6.88491529e-03, -1.05392095e-02,  4.17410396e-02,  1.02026891e-02,\n",
       "         3.71336862e-02, -6.55791685e-02, -8.82178098e-02, -3.99496115e-04,\n",
       "        -3.36891934e-02,  7.16498680e-03, -1.19049743e-01, -6.65936098e-02,\n",
       "        -5.13649210e-02,  9.18281451e-03, -5.04503474e-02, -7.54037406e-03,\n",
       "         1.90378644e-03,  8.65797251e-02, -4.91425488e-03, -3.44673730e-02,\n",
       "         9.74816233e-02, -5.25907688e-02,  1.46340951e-03,  4.64875586e-02,\n",
       "         3.55200954e-02, -1.10059967e-02,  5.89621812e-02,  8.62536803e-02,\n",
       "         2.93098334e-02, -1.66508630e-02, -6.37990013e-02, -9.79333837e-03,\n",
       "         5.82274236e-03,  5.42779006e-02,  1.05418183e-01, -4.07750010e-02,\n",
       "         6.24008244e-04,  4.72201370e-02,  2.96300203e-02,  5.73289879e-02,\n",
       "         5.42411022e-02, -2.40753088e-02,  6.35795817e-02, -1.60278268e-02,\n",
       "        -3.21852490e-02, -8.40356108e-03, -6.17926605e-02, -4.61667329e-02,\n",
       "         4.18190323e-02,  2.05009803e-02,  2.37505883e-02,  1.50784645e-02,\n",
       "        -6.04220703e-02, -6.63068742e-02, -7.65344035e-03,  1.02841154e-01,\n",
       "        -2.83712354e-02, -2.89263595e-02, -3.41511667e-02,  8.95649120e-02,\n",
       "         1.96392834e-03,  9.69494805e-02,  1.50604323e-02, -3.41912508e-02,\n",
       "        -9.24500376e-02, -1.02556728e-01,  3.48129533e-02, -7.17410743e-02,\n",
       "         2.29627565e-02,  9.72665497e-04, -2.83549931e-02,  1.91331562e-02,\n",
       "        -8.56189877e-02, -1.19962513e-01,  1.52102178e-02,  3.85615346e-03,\n",
       "         8.87829717e-03,  5.82969859e-02,  2.56562941e-02,  7.03996494e-02,\n",
       "         5.08677550e-02,  5.29848486e-02,  3.21937054e-02, -5.76338246e-02,\n",
       "         2.71603540e-02, -5.73432185e-02, -1.14222549e-01,  1.25456955e-02,\n",
       "        -2.17434373e-02,  3.58647592e-02,  1.52643584e-03,  1.25868186e-01,\n",
       "         5.80171123e-02,  3.24494392e-02,  5.59681989e-02, -4.28673699e-02,\n",
       "         3.17239016e-02,  5.15442621e-03,  2.99046729e-02,  9.08194035e-02,\n",
       "         4.84778807e-02, -7.40637444e-03, -5.39468676e-02, -1.70683172e-02,\n",
       "        -8.35114792e-02,  5.93179576e-02, -1.12597859e-02,  5.17142825e-02,\n",
       "         3.07246987e-02,  5.77481638e-04, -3.05939410e-02, -5.18856198e-02,\n",
       "         2.91802222e-03,  1.13157518e-02,  5.60570881e-02,  4.10613343e-02,\n",
       "         8.63298625e-02,  8.82595126e-03, -3.79562452e-02, -2.33360548e-02,\n",
       "        -1.16989523e-01, -4.72495379e-03,  7.40425065e-02,  3.08797252e-03,\n",
       "        -5.27947471e-02, -1.39169678e-01,  4.07795906e-02, -2.56277099e-02,\n",
       "        -3.91202271e-02,  2.87369508e-02,  9.76731181e-02,  9.38531570e-03,\n",
       "        -2.88001169e-02,  1.00148879e-01,  4.57942002e-02, -2.72734854e-02,\n",
       "         5.82692213e-02, -3.23067829e-02, -8.02377686e-02, -1.32408775e-02,\n",
       "         1.34620406e-02, -1.64374653e-02,  8.72084405e-03,  5.30325472e-02,\n",
       "        -1.78212747e-02,  1.25474837e-02,  5.72723337e-02,  2.30687633e-02,\n",
       "         6.41367212e-02,  9.31578651e-02,  7.86416903e-02, -2.91380808e-02,\n",
       "        -8.87316689e-02, -3.93733867e-02, -2.65595913e-02, -2.21622456e-02,\n",
       "         5.39795868e-02, -2.30269153e-02, -6.57646060e-02,  1.98113471e-02,\n",
       "        -4.00015898e-02, -5.83578832e-02,  3.50875221e-02,  2.67990492e-02,\n",
       "        -3.38774212e-02, -1.18891053e-01, -2.42318232e-02,  3.29580158e-02,\n",
       "         3.97744440e-02,  6.06186315e-02,  4.33010893e-04,  3.51420045e-02,\n",
       "        -7.14523420e-02, -5.60944267e-02, -7.90750757e-02, -6.33061230e-02,\n",
       "         7.98974372e-03, -3.78326103e-02,  1.97503846e-02,  2.23710388e-02,\n",
       "        -8.74514226e-03,  2.44614854e-02,  2.68122554e-02,  1.08981845e-32,\n",
       "        -1.72822028e-02,  2.02701567e-03, -4.61832993e-03,  2.65445318e-02,\n",
       "         1.27737019e-02,  1.15771815e-02, -6.98788762e-02,  2.57798769e-02,\n",
       "         6.77227825e-02,  2.55003106e-02, -5.54863618e-05, -3.15151620e-03,\n",
       "        -3.48297879e-02,  6.80729151e-02, -1.54211009e-02, -4.69327495e-02,\n",
       "         3.21632065e-02, -8.59992206e-02, -4.28720266e-02, -3.66201811e-02,\n",
       "        -2.40817089e-02,  7.14446083e-02, -1.05966896e-01, -1.15233190e-01,\n",
       "         2.59396005e-02,  2.51045488e-02,  4.85960580e-02, -5.71447834e-02,\n",
       "         1.51881240e-02, -4.16146824e-03, -2.66208872e-02,  8.47244561e-02,\n",
       "        -1.23742111e-02, -3.53342593e-02, -7.75236860e-02,  4.63457592e-02,\n",
       "         1.65733732e-02, -4.93062101e-02,  7.69352354e-03,  3.65676382e-03,\n",
       "         5.89767359e-02, -5.33589311e-02,  2.69220993e-02, -5.27984165e-02,\n",
       "         4.11452986e-02,  6.24717493e-03,  6.82057021e-03, -3.91632766e-02,\n",
       "        -5.55251613e-02, -3.69080827e-02, -2.80015916e-02,  1.03312284e-02,\n",
       "        -1.99749656e-02, -7.45644495e-02, -4.39189235e-03,  1.53928660e-02,\n",
       "         9.98096541e-02, -4.17908169e-02,  2.02440936e-03, -1.14943357e-02,\n",
       "        -6.43698350e-02, -1.87330097e-02,  4.10246290e-02,  2.97379885e-02,\n",
       "        -3.71308774e-02,  4.37779725e-03, -1.43579245e-02,  2.97560822e-03,\n",
       "        -4.30536233e-02, -4.70381975e-02, -8.17758869e-03,  7.30858147e-02,\n",
       "        -1.32422810e-02, -5.30208647e-02, -8.59360024e-03,  6.07818887e-02,\n",
       "         5.19728586e-02, -6.89033717e-02, -6.31207898e-02, -7.22132437e-03,\n",
       "        -1.49590746e-02, -1.57044642e-02, -1.43480003e-02,  3.61207919e-03,\n",
       "        -2.25358922e-02,  8.56887251e-02, -1.19547257e-02,  1.43647403e-03,\n",
       "        -9.00837034e-03,  1.68844685e-02, -7.56060472e-03, -9.56135690e-02,\n",
       "         4.90730221e-04, -1.08824030e-01,  2.96303201e-02,  5.77872082e-32,\n",
       "        -1.06335711e-02, -4.51931842e-02, -2.48359572e-02, -5.98941892e-02,\n",
       "        -5.86073957e-02, -4.30539139e-02, -4.87103499e-02,  4.39433865e-02,\n",
       "        -7.09423423e-02,  5.99289387e-02, -2.26139165e-02, -3.05737313e-02,\n",
       "        -8.68444983e-03,  5.15272059e-02,  1.30219325e-01,  5.44377267e-02,\n",
       "        -6.29728585e-02,  5.94449416e-02, -4.40287814e-02, -5.16655110e-02,\n",
       "         9.83048156e-02, -3.16041224e-02,  5.79668432e-02,  4.71841358e-02,\n",
       "         1.32200364e-02,  2.08672564e-02,  8.10831320e-03, -7.62564130e-03,\n",
       "        -1.78745817e-02,  5.44384345e-02,  1.86112821e-02,  7.67811909e-02,\n",
       "        -4.29887511e-02,  1.87673531e-02,  6.57687485e-02,  5.88619821e-02,\n",
       "         7.52080679e-02,  1.64406151e-02,  2.95774005e-02,  4.73078340e-02,\n",
       "        -1.23530075e-01, -1.53968614e-02, -4.46105422e-03,  9.81016085e-02,\n",
       "         1.82625987e-02, -3.84209305e-02, -1.60780456e-02,  3.71781141e-02,\n",
       "         1.39209745e-03,  2.93956865e-02,  9.01365876e-02, -1.51504856e-02,\n",
       "         3.41752470e-02, -8.27643126e-02,  5.51811159e-02, -1.17706116e-02,\n",
       "         2.32377388e-02, -6.42761290e-02, -1.14666417e-01,  6.75561279e-02,\n",
       "         3.31201144e-02,  9.26014408e-02, -1.76133756e-02, -3.28356843e-03],\n",
       "       dtype=float32),\n",
       " 'id': 'Dr. Emily Thompson',\n",
       " 'metadata': {'review': \"Dr. Thompson's lectures are engaging and she explains complex concepts clearly. Very approachable during office hours.\",\n",
       "  'subject': 'Biology',\n",
       "  'stars': 4}}"
      ]
     },
     "execution_count": 8,
     "metadata": {},
     "output_type": "execute_result"
    }
   ],
   "source": [
    "vectors[0]"
   ]
  },
  {
   "cell_type": "code",
   "execution_count": 12,
   "metadata": {},
   "outputs": [
    {
     "data": {
      "text/plain": [
       "{'upserted_count': 20}"
      ]
     },
     "execution_count": 12,
     "metadata": {},
     "output_type": "execute_result"
    }
   ],
   "source": [
    "index = pc.Index('rag')\n",
    "index.upsert(\n",
    "    vectors=vectors,\n",
    "    namespace=\"ns1\"\n",
    ")"
   ]
  },
  {
   "cell_type": "code",
   "execution_count": null,
   "metadata": {},
   "outputs": [],
   "source": []
  }
 ],
 "metadata": {
  "kernelspec": {
   "display_name": "Python 3",
   "language": "python",
   "name": "python3"
  },
  "language_info": {
   "codemirror_mode": {
    "name": "ipython",
    "version": 3
   },
   "file_extension": ".py",
   "mimetype": "text/x-python",
   "name": "python",
   "nbconvert_exporter": "python",
   "pygments_lexer": "ipython3",
   "version": "3.10.13"
  }
 },
 "nbformat": 4,
 "nbformat_minor": 2
}
